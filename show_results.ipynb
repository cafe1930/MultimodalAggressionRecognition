{
 "cells": [
  {
   "cell_type": "code",
   "execution_count": 9,
   "metadata": {},
   "outputs": [],
   "source": [
    "import os\n",
    "import pandas as pd\n",
    "import glob\n",
    "import matplotlib.pyplot as plt\n",
    "%matplotlib inline"
   ]
  },
  {
   "cell_type": "code",
   "execution_count": 7,
   "metadata": {},
   "outputs": [
    {
     "data": {
      "text/plain": [
       "['08.11.2024, 14-46-34 (Video Extr-1 Fus-1)',\n",
       " '08.11.2024, 16-57-16 (Video Extr-1 Fus-1)',\n",
       " '09.11.2024, 00-15-21 (Video+Text Extr-0 Fus-2)',\n",
       " '08.11.2024, 14-25-35 (Video Extr-2 Fus-0)',\n",
       " '08.11.2024, 15-12-13 (Video Extr-1 Fus-1)']"
      ]
     },
     "execution_count": 7,
     "metadata": {},
     "output_type": "execute_result"
    }
   ],
   "source": [
    "path_to_results_root = r'/home/ubuntu/mikhail_u/MultimodalAggressionRecognition/saving_dir'\n",
    "os.listdir(path_to_results_root)\n"
   ]
  },
  {
   "cell_type": "code",
   "execution_count": 58,
   "metadata": {},
   "outputs": [
    {
     "data": {
      "text/plain": [
       "dict_keys(['phys_test_log_', 'phys_train_log'])"
      ]
     },
     "execution_count": 58,
     "metadata": {},
     "output_type": "execute_result"
    }
   ],
   "source": [
    "results_dir_name = '08.11.2024, 16-57-16 (Video Extr-1 Fus-1)'\n",
    "path_to_results_dir = os.path.join(path_to_results_root, results_dir_name)\n",
    "path_to_reults_csvs_list = glob.glob(os.path.join(path_to_results_dir, '*.csv'))\n",
    "results_dict = {}\n",
    "for path in path_to_reults_csvs_list:\n",
    "    _, name = os.path.split(path)\n",
    "    name = '.'.join(name.split('.')[:-1])\n",
    "    df = pd.read_csv(path)\n",
    "    #combinations_info_table['rest_indices_combination'].apply(lambda x:eval(x)if isinstance(x, str) else x)\n",
    "    for col in df.columns:\n",
    "        df[col] = df[col].apply(lambda x: eval(','.join([s for s in x.split(' ') if len(s)!=0])) if  isinstance(x, str) else x)\n",
    "    \n",
    "    results_dict[name] = df\n",
    "\n",
    "results_dict.keys()\n",
    "\n"
   ]
  },
  {
   "cell_type": "code",
   "execution_count": 59,
   "metadata": {},
   "outputs": [
    {
     "data": {
      "text/plain": [
       "Unnamed: 0                          31\n",
       "loss                          0.013304\n",
       "accuracy                      0.790907\n",
       "precision     [0.93049417, 0.52241113]\n",
       "recall        [0.78936605, 0.79623086]\n",
       "f1-score      [0.85413978, 0.63089127]\n",
       "UAR                           0.792798\n",
       "Name: 31, dtype: object"
      ]
     },
     "execution_count": 59,
     "metadata": {},
     "output_type": "execute_result"
    }
   ],
   "source": [
    "name = 'phys_test_log_'\n",
    "idx = results_dict[name]['UAR'].argmax()\n",
    "results_dict[name].loc[idx]\n"
   ]
  },
  {
   "cell_type": "code",
   "execution_count": null,
   "metadata": {},
   "outputs": [],
   "source": []
  }
 ],
 "metadata": {
  "kernelspec": {
   "display_name": "aggr_rec",
   "language": "python",
   "name": "aggr_rec"
  },
  "language_info": {
   "codemirror_mode": {
    "name": "ipython",
    "version": 3
   },
   "file_extension": ".py",
   "mimetype": "text/x-python",
   "name": "python",
   "nbconvert_exporter": "python",
   "pygments_lexer": "ipython3",
   "version": "3.10.13"
  },
  "orig_nbformat": 4
 },
 "nbformat": 4,
 "nbformat_minor": 2
}
