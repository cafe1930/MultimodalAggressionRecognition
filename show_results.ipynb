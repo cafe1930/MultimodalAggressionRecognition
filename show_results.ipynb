{
 "cells": [
  {
   "cell_type": "code",
   "execution_count": 1,
   "metadata": {},
   "outputs": [],
   "source": [
    "import os\n",
    "import pandas as pd\n",
    "import glob\n",
    "import matplotlib.pyplot as plt\n",
    "%matplotlib inline"
   ]
  },
  {
   "cell_type": "code",
   "execution_count": 18,
   "metadata": {},
   "outputs": [
    {
     "data": {
      "text/plain": [
       "['08.11.2024, 14-46-34 (Video Extr-1 Fus-1)',\n",
       " '08.11.2024, 16-57-16 (Video Extr-1 Fus-1)',\n",
       " '09.11.2024, 00-15-21 (Video+Text Extr-0 Fus-2)',\n",
       " '10.11.2024, 02-29-33 (FullDs_V+T+fusion1L-focalloss)',\n",
       " '11.11.2024, 05-31-30 (FullDs_V(focal,g=1.)+T(ce)+fusion1L)',\n",
       " '08.11.2024, 14-25-35 (Video Extr-2 Fus-0)',\n",
       " '09.11.2024, 20-19-52 (V-drop_noaggrds-fusion2L)',\n",
       " '09.11.2024, 20-22-24 (V-drop_noaggrds-fusion2L)',\n",
       " '11.11.2024, 04-36-40 (FullDs_V(focal,g=0.5)+fusion1L)',\n",
       " '11.11.2024, 06-37-33 (FullDs_V(focal,g=2.2)+T(ce)+fusion1L)',\n",
       " '10.11.2024, 05-01-56 (FullDs_V(focal)+T(ce)+fusion1L)',\n",
       " '10.11.2024, 01-16-53 (V+T-fusion1L-focalloss)',\n",
       " '08.11.2024, 15-12-13 (Video Extr-1 Fus-1)']"
      ]
     },
     "execution_count": 18,
     "metadata": {},
     "output_type": "execute_result"
    }
   ],
   "source": [
    "path_to_results_root = r'/home/ubuntu/mikhail_u/MultimodalAggressionRecognition/saving_dir'\n",
    "os.listdir(path_to_results_root)\n"
   ]
  },
  {
   "cell_type": "code",
   "execution_count": 22,
   "metadata": {},
   "outputs": [
    {
     "data": {
      "text/plain": [
       "dict_keys(['phys_test_log_', 'verb_train_log', 'phys_train_log', 'verb_test_log_'])"
      ]
     },
     "execution_count": 22,
     "metadata": {},
     "output_type": "execute_result"
    }
   ],
   "source": [
    "results_dir_name = '11.11.2024, 05-31-30 (FullDs_V(focal,g=1.)+T(ce)+fusion1L)'\n",
    "path_to_results_dir = os.path.join(path_to_results_root, results_dir_name)\n",
    "path_to_reults_csvs_list = glob.glob(os.path.join(path_to_results_dir, '*.csv'))\n",
    "results_dict = {}\n",
    "for path in path_to_reults_csvs_list:\n",
    "    _, name = os.path.split(path)\n",
    "    name = '.'.join(name.split('.')[:-1])\n",
    "    df = pd.read_csv(path)\n",
    "    #combinations_info_table['rest_indices_combination'].apply(lambda x:eval(x)if isinstance(x, str) else x)\n",
    "    for col in df.columns:\n",
    "        df[col] = df[col].apply(lambda x: eval(','.join([s for s in x.split(' ') if len(s)!=0])) if  isinstance(x, str) else x)\n",
    "    \n",
    "    results_dict[name] = df\n",
    "\n",
    "results_dict.keys()\n",
    "\n"
   ]
  },
  {
   "cell_type": "code",
   "execution_count": 23,
   "metadata": {},
   "outputs": [
    {
     "data": {
      "text/plain": [
       "loss                          0.00256\n",
       "accuracy                     0.791964\n",
       "precision     [0.9188451, 0.52540984]\n",
       "recall       [0.80265849, 0.75500589]\n",
       "f1-score       [0.856831, 0.61962301]\n",
       "UAR                          0.778832\n",
       "UAP                          0.722127\n",
       "UAF1                         0.738227\n",
       "Name: 2, dtype: object"
      ]
     },
     "execution_count": 23,
     "metadata": {},
     "output_type": "execute_result"
    }
   ],
   "source": [
    "name = 'phys_test_log_'\n",
    "idx = results_dict[name]['UAR'].argmax()\n",
    "results_dict[name].loc[idx]\n"
   ]
  },
  {
   "cell_type": "code",
   "execution_count": null,
   "metadata": {},
   "outputs": [],
   "source": []
  }
 ],
 "metadata": {
  "kernelspec": {
   "display_name": "aggr_rec",
   "language": "python",
   "name": "aggr_rec"
  },
  "orig_nbformat": 4
 },
 "nbformat": 4,
 "nbformat_minor": 2
}
